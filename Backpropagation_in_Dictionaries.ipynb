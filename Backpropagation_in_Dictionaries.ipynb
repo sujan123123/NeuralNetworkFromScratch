{
  "nbformat": 4,
  "nbformat_minor": 0,
  "metadata": {
    "colab": {
      "name": "Backpropagation in Dictionaries.ipynb",
      "provenance": [],
      "authorship_tag": "ABX9TyOKGzIzGJdq/QAODkVIBVKZ",
      "include_colab_link": true
    },
    "kernelspec": {
      "name": "python3",
      "display_name": "Python 3"
    }
  },
  "cells": [
    {
      "cell_type": "markdown",
      "metadata": {
        "id": "view-in-github",
        "colab_type": "text"
      },
      "source": [
        "<a href=\"https://colab.research.google.com/github/sujan123123/NeuralNetworkFromScratch/blob/master/Backpropagation_in_Dictionaries.ipynb\" target=\"_parent\"><img src=\"https://colab.research.google.com/assets/colab-badge.svg\" alt=\"Open In Colab\"/></a>"
      ]
    },
    {
      "cell_type": "code",
      "metadata": {
        "id": "K3V2I9rF_ehA",
        "colab_type": "code",
        "colab": {
          "base_uri": "https://localhost:8080/",
          "height": 71
        },
        "outputId": "15b04c4a-bd60-47b9-8d0e-f2852fac9f91"
      },
      "source": [
        "from random import seed\n",
        "from random import random\n",
        "\n",
        "def initialize_network(n_inputs,n_hidden,n_outputs):\n",
        "  network = list()\n",
        "  hidden_layer = [{'weights':[random() for i in range(n_inputs+1)]} for i in range(n_hidden)]\n",
        "  output_layer = [{'weights':[random() for i in range(n_hidden+1)]} for i in range(n_outputs)]\n",
        "  network.append(hidden_layer)\n",
        "  network.append(output_layer)\n",
        "  return network\n",
        "\n",
        "seed(1)\n",
        "network = initialize_network(2,1,2)\n",
        "for layer in network:\n",
        "  print(layer)"
      ],
      "execution_count": 30,
      "outputs": [
        {
          "output_type": "stream",
          "text": [
            "[{'weights': [0.13436424411240122, 0.8474337369372327, 0.763774618976614]}]\n",
            "[{'weights': [0.2550690257394217, 0.49543508709194095]}, {'weights': [0.4494910647887381, 0.651592972722763]}]\n"
          ],
          "name": "stdout"
        }
      ]
    },
    {
      "cell_type": "code",
      "metadata": {
        "id": "rnLOGkC0531Y",
        "colab_type": "code",
        "colab": {}
      },
      "source": [
        "from math import exp\n",
        "def activate(weights,inputs):\n",
        "  activation = weights[-1]\n",
        "  for i in range(len(weights)-1):\n",
        "    activation += weights[i]*inputs[i]\n",
        "  return activation\n",
        "\n",
        "def transfer(activation):\n",
        "\treturn 1.0 / (1.0 + exp(-activation))\n"
      ],
      "execution_count": 0,
      "outputs": []
    },
    {
      "cell_type": "code",
      "metadata": {
        "id": "6Bg6sJzE7NKp",
        "colab_type": "code",
        "colab": {}
      },
      "source": [
        "def forward_propagate(network,row):\n",
        "  inputs = row\n",
        "  for layer in network:\n",
        "    new_inputs = []\n",
        "    for neuron in layer:\n",
        "      activation = activate(neuron['weights'],inputs)\n",
        "      neuron['output'] = transfer(activation)\n",
        "      new_inputs.append(neuron['output'])\n",
        "    inputs = new_inputs\n",
        "  return inputs"
      ],
      "execution_count": 0,
      "outputs": []
    },
    {
      "cell_type": "code",
      "metadata": {
        "id": "u0Ib7-D-UbnV",
        "colab_type": "code",
        "colab": {
          "base_uri": "https://localhost:8080/",
          "height": 34
        },
        "outputId": "c0fb264c-e61c-4c31-9a17-a0abb4c059aa"
      },
      "source": [
        "network\n",
        "row = [1, 0, None]\n",
        "output = forward_propagate(network, row)\n",
        "print(output)"
      ],
      "execution_count": 33,
      "outputs": [
        {
          "output_type": "stream",
          "text": [
            "[0.6629970129852887, 0.7253160725279748]\n"
          ],
          "name": "stdout"
        }
      ]
    },
    {
      "cell_type": "code",
      "metadata": {
        "id": "WrndY901Un2o",
        "colab_type": "code",
        "colab": {}
      },
      "source": [
        "def transfer_derivative(output):\n",
        "\treturn output * (1.0 - output)"
      ],
      "execution_count": 0,
      "outputs": []
    },
    {
      "cell_type": "code",
      "metadata": {
        "id": "9fSFlSNeVktS",
        "colab_type": "code",
        "colab": {}
      },
      "source": [
        "def backward_propagate_error(network,expected):\n",
        "  for i in reversed(range(len(network))):\n",
        "    layer = network[i]\n",
        "    errors = list()\n",
        "    if i != len(network)-1:\n",
        "      for j in range(len(layer)):\n",
        "        error = 0.0\n",
        "        for neuron in network[i + 1]:\n",
        "          error += (neuron['weights'][j] * neuron['delta'])\n",
        "        errors.append(error)\n",
        "    else:\n",
        "      for j in range(len(layer)):\n",
        "        neuron = layer[j]\n",
        "        errors.append(expected[j] - neuron['output'])\n",
        "    for j in range (len(layer)):\n",
        "      neuron = layer[j]\n",
        "      neuron['delta'] = errors[j] * transfer_derivative(neuron['output'])\n"
      ],
      "execution_count": 0,
      "outputs": []
    },
    {
      "cell_type": "code",
      "metadata": {
        "id": "wkSzJToUXua6",
        "colab_type": "code",
        "colab": {}
      },
      "source": [
        "def update_weights(network,row,l_rate):\n",
        "  for i in range(len(network)):\n",
        "    inputs = row[:-1]\n",
        "    if i != 0:\n",
        "      inputs = [neuron['output'] for neuron in network[i - 1]]\n",
        "    for neuron in network[i]:\n",
        "      for j in range(len(inputs)):\n",
        "        neuron['weights'][j] += l_rate* neuron['delta'] * inputs[j]\n",
        "      neuron['weights'][-1] += l_rate* neuron['delta']\n"
      ],
      "execution_count": 0,
      "outputs": []
    },
    {
      "cell_type": "code",
      "metadata": {
        "id": "j_PRys-5bhju",
        "colab_type": "code",
        "colab": {}
      },
      "source": [
        "def train_network(network,train,l_rate,n_epoch,n_outputs):\n",
        "  for epoch in range(n_epoch):\n",
        "    sum_error = 0\n",
        "    for row in train:\n",
        "      outputs = forward_propagate(network, row)\n",
        "      expected = [0 for i in range(n_outputs)]\n",
        "      expected[row[-1]] = 1\n",
        "      sum_error = sum((expected[i] - outputs[i])**2 for i in range(len(expected)))\n",
        "      backward_propagate_error(network,expected)\n",
        "      update_weights(network,row,l_rate)\n",
        "    print('>epoch=%d, lrate=%.3f, error=%.3f' % (epoch, l_rate, sum_error))\n"
      ],
      "execution_count": 0,
      "outputs": []
    },
    {
      "cell_type": "code",
      "metadata": {
        "id": "LphFekQ2dsVz",
        "colab_type": "code",
        "colab": {
          "base_uri": "https://localhost:8080/",
          "height": 411
        },
        "outputId": "1d09cdc5-a8e2-43d6-b226-7f0731a46269"
      },
      "source": [
        "# Test training backprop algorithm\n",
        "seed(1)\n",
        "dataset = [[2.7810836,2.550537003,0],\n",
        "\t[1.465489372,2.362125076,0],\n",
        "\t[3.396561688,4.400293529,0],\n",
        "\t[1.38807019,1.850220317,0],\n",
        "\t[3.06407232,3.005305973,0],\n",
        "\t[7.627531214,2.759262235,1],\n",
        "\t[5.332441248,2.088626775,1],\n",
        "\t[6.922596716,1.77106367,1],\n",
        "\t[8.675418651,-0.242068655,1],\n",
        "\t[7.673756466,3.508563011,1]]\n",
        "n_inputs = len(dataset[0]) - 1\n",
        "n_outputs = len(set([row[-1] for row in dataset]))\n",
        "network = initialize_network(n_inputs, 2, n_outputs)\n",
        "train_network(network, dataset, 0.5, 20, n_outputs)\n",
        "for layer in network:\n",
        "\tprint(layer)"
      ],
      "execution_count": 42,
      "outputs": [
        {
          "output_type": "stream",
          "text": [
            ">epoch=0, lrate=0.500, error=0.626\n",
            ">epoch=1, lrate=0.500, error=0.497\n",
            ">epoch=2, lrate=0.500, error=0.446\n",
            ">epoch=3, lrate=0.500, error=0.396\n",
            ">epoch=4, lrate=0.500, error=0.347\n",
            ">epoch=5, lrate=0.500, error=0.335\n",
            ">epoch=6, lrate=0.500, error=0.318\n",
            ">epoch=7, lrate=0.500, error=0.295\n",
            ">epoch=8, lrate=0.500, error=0.269\n",
            ">epoch=9, lrate=0.500, error=0.244\n",
            ">epoch=10, lrate=0.500, error=0.221\n",
            ">epoch=11, lrate=0.500, error=0.200\n",
            ">epoch=12, lrate=0.500, error=0.182\n",
            ">epoch=13, lrate=0.500, error=0.167\n",
            ">epoch=14, lrate=0.500, error=0.153\n",
            ">epoch=15, lrate=0.500, error=0.141\n",
            ">epoch=16, lrate=0.500, error=0.131\n",
            ">epoch=17, lrate=0.500, error=0.121\n",
            ">epoch=18, lrate=0.500, error=0.113\n",
            ">epoch=19, lrate=0.500, error=0.105\n",
            "[{'weights': [-1.4688375095432327, 1.850887325439514, 1.0858178629550297], 'output': 0.029980305604426185, 'delta': -0.0059546604162323625}, {'weights': [0.37711098142462157, -0.0625909894552989, 0.2765123702642716], 'output': 0.9456229000211323, 'delta': 0.0026279652850863837}]\n",
            "[{'weights': [2.515394649397849, -0.3391927502445985, -0.9671565426390275], 'output': 0.23648794202357587, 'delta': -0.04270059278364587}, {'weights': [-2.5584149848484263, 1.0036422106209202, 0.42383086467582715], 'output': 0.7790535202438367, 'delta': 0.03803132596437354}]\n"
          ],
          "name": "stdout"
        }
      ]
    },
    {
      "cell_type": "code",
      "metadata": {
        "id": "cNv7wWEThIC6",
        "colab_type": "code",
        "colab": {
          "base_uri": "https://localhost:8080/",
          "height": 187
        },
        "outputId": "40c460de-9738-4945-e424-9b673453aebf"
      },
      "source": [
        "def predict(network, row):\n",
        "\toutputs = forward_propagate(network, row)\n",
        "\treturn outputs.index(max(outputs))\n",
        "\n",
        "for row in dataset:\n",
        "\tprediction = predict(network, row)\n",
        "\tprint('Expected=%d, Got=%d' % (row[-1], prediction))"
      ],
      "execution_count": 43,
      "outputs": [
        {
          "output_type": "stream",
          "text": [
            "Expected=0, Got=0\n",
            "Expected=0, Got=0\n",
            "Expected=0, Got=0\n",
            "Expected=0, Got=0\n",
            "Expected=0, Got=0\n",
            "Expected=1, Got=1\n",
            "Expected=1, Got=1\n",
            "Expected=1, Got=1\n",
            "Expected=1, Got=1\n",
            "Expected=1, Got=1\n"
          ],
          "name": "stdout"
        }
      ]
    },
    {
      "cell_type": "code",
      "metadata": {
        "id": "XFPtQW8DhyNv",
        "colab_type": "code",
        "colab": {}
      },
      "source": [
        ""
      ],
      "execution_count": 0,
      "outputs": []
    }
  ]
}